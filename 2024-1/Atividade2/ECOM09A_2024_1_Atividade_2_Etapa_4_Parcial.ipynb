{
  "cells": [
    {
      "cell_type": "markdown",
      "metadata": {
        "id": "94dW8V8Si76O"
      },
      "source": [
        "# ECOM09A Atividade 2 Etapa 4"
      ]
    },
    {
      "cell_type": "markdown",
      "metadata": {
        "id": "vAB4zT8IlQ-O"
      },
      "source": [
        "[Proposta](https://docs.google.com/document/d/e/2PACX-1vS-DZIR4CM_abUC7bgTtd3x5X_QCdh8Y3FdVdEQbTfTRricAduuQK5i_yQIHdMoKddV6g9QONtp-BuN/pub)\n",
        "\n",
        "(14/06/2024) Utilizando um modelo do Huggingfaces de Text Classification:\n",
        "- https://huggingface.co/models?pipeline_tag=text-classification\n",
        "- Obter um resultado melhor que o notebook da etapa 3 (GloVe)\n",
        "\n",
        "Código abaixo baseado em:\n",
        "\n",
        "https://medium.com/@prakashram1327/building-a-text-classification-model-using-distilbert-703c1409696c"
      ]
    },
    {
      "cell_type": "markdown",
      "source": [
        "## Base de dados de artigos da Folha UOL"
      ],
      "metadata": {
        "id": "V8p5qhaAMR6X"
      }
    },
    {
      "cell_type": "code",
      "source": [
        "import os\n",
        "from IPython.core.display import display, HTML\n",
        "from google.colab import files, userdata\n",
        "\n",
        "if not os.path.exists('/content/articles.csv'):\n",
        "  if not os.path.exists('kaggle.json'):\n",
        "    try:\n",
        "      kaggle_key = userdata.get('kaggle_key')\n",
        "      open('kaggle.json','w').write(kaggle_key)\n",
        "    except:\n",
        "      files.upload()\n",
        "\n",
        "  !pip install -q kaggle\n",
        "\n",
        "  !mkdir ~/.kaggle\n",
        "  !cp kaggle.json ~/.kaggle/\n",
        "  !rm kaggle.json\n",
        "  !chmod 600 ~/.kaggle/kaggle.json\n",
        "  !kaggle datasets download 'marlesson/news-of-the-site-folhauol'\n",
        "  !unzip -qq news-of-the-site-folhauol.zip\n",
        "  !rm news-of-the-site-folhauol.zip"
      ],
      "metadata": {
        "colab": {
          "base_uri": "https://localhost:8080/"
        },
        "id": "kPKOySGZMT6n",
        "outputId": "0e252128-b373-4a80-f0f9-4ae117f273cc"
      },
      "execution_count": null,
      "outputs": [
        {
          "output_type": "stream",
          "name": "stdout",
          "text": [
            "Dataset URL: https://www.kaggle.com/datasets/marlesson/news-of-the-site-folhauol\n",
            "License(s): CC0-1.0\n",
            "Downloading news-of-the-site-folhauol.zip to /content\n",
            " 95% 177M/187M [00:02<00:00, 82.9MB/s]\n",
            "100% 187M/187M [00:02<00:00, 86.4MB/s]\n"
          ]
        }
      ]
    },
    {
      "cell_type": "markdown",
      "source": [
        "## Instalando Biblioteca do HuggingFaces (Transformers)"
      ],
      "metadata": {
        "id": "axf8wQUjLsqf"
      }
    },
    {
      "cell_type": "code",
      "source": [
        "!pip install -q datasets transformers[torch]"
      ],
      "metadata": {
        "id": "Cb0Pj9sqMKp-"
      },
      "execution_count": null,
      "outputs": []
    },
    {
      "cell_type": "code",
      "source": [
        "import transformers\n",
        "print('Transformes:',transformers.__version__)\n",
        "import datasets\n",
        "print('Datasets:',datasets.__version__)"
      ],
      "metadata": {
        "colab": {
          "base_uri": "https://localhost:8080/"
        },
        "id": "WLnAusw_NRmv",
        "outputId": "d74fe815-cacc-459a-cbdd-d0dc5725e34f"
      },
      "execution_count": null,
      "outputs": [
        {
          "output_type": "stream",
          "name": "stdout",
          "text": [
            "Transformes: 4.41.2\n",
            "Datasets: 2.19.2\n"
          ]
        }
      ]
    },
    {
      "cell_type": "markdown",
      "source": [
        "## Carregando Base de Dados no Format Transformes"
      ],
      "metadata": {
        "id": "AOYa4p_9OAgT"
      }
    },
    {
      "cell_type": "code",
      "source": [
        "import pandas as pd\n",
        "\n",
        "df_folha = pd.read_csv('articles.csv',encoding=\"utf8\")\n",
        "\n",
        "df_folha.drop([\"title\",\"date\",\"subcategory\",\"link\"],axis=1,inplace=True)\n",
        "df_folha.drop_duplicates(subset=[\"text\"],inplace=True)\n",
        "df_folha.dropna(inplace=True)\n",
        "\n",
        "df_folha.reset_index(drop=True,inplace=True)\n",
        "df_folha = df_folha[df_folha['category'].isin(list(df_folha['category'].value_counts()[:7].index))]\n",
        "\n",
        "df_folha.head()"
      ],
      "metadata": {
        "colab": {
          "base_uri": "https://localhost:8080/",
          "height": 206
        },
        "id": "9Hb8hErKNogg",
        "outputId": "4418a77d-cd50-4b04-cefe-186d4eee3f9a"
      },
      "execution_count": null,
      "outputs": [
        {
          "output_type": "execute_result",
          "data": {
            "text/plain": [
              "                                                text   category\n",
              "0  Com a possibilidade de uma condenação impedir ...      poder\n",
              "1  Para Oumou Sangaré, cantora e ativista malines...  ilustrada\n",
              "2  Três reportagens da Folha foram vencedoras do ...      poder\n",
              "3  A Disney divulgou na noite desta segunda-feira...  ilustrada\n",
              "4  O CBSS, banco da holding Elopar dos sócios Bra...    mercado"
            ],
            "text/html": [
              "\n",
              "  <div id=\"df-7e0dfb5b-1540-400e-b481-8a9dd8958ab6\" class=\"colab-df-container\">\n",
              "    <div>\n",
              "<style scoped>\n",
              "    .dataframe tbody tr th:only-of-type {\n",
              "        vertical-align: middle;\n",
              "    }\n",
              "\n",
              "    .dataframe tbody tr th {\n",
              "        vertical-align: top;\n",
              "    }\n",
              "\n",
              "    .dataframe thead th {\n",
              "        text-align: right;\n",
              "    }\n",
              "</style>\n",
              "<table border=\"1\" class=\"dataframe\">\n",
              "  <thead>\n",
              "    <tr style=\"text-align: right;\">\n",
              "      <th></th>\n",
              "      <th>text</th>\n",
              "      <th>category</th>\n",
              "    </tr>\n",
              "  </thead>\n",
              "  <tbody>\n",
              "    <tr>\n",
              "      <th>0</th>\n",
              "      <td>Com a possibilidade de uma condenação impedir ...</td>\n",
              "      <td>poder</td>\n",
              "    </tr>\n",
              "    <tr>\n",
              "      <th>1</th>\n",
              "      <td>Para Oumou Sangaré, cantora e ativista malines...</td>\n",
              "      <td>ilustrada</td>\n",
              "    </tr>\n",
              "    <tr>\n",
              "      <th>2</th>\n",
              "      <td>Três reportagens da Folha foram vencedoras do ...</td>\n",
              "      <td>poder</td>\n",
              "    </tr>\n",
              "    <tr>\n",
              "      <th>3</th>\n",
              "      <td>A Disney divulgou na noite desta segunda-feira...</td>\n",
              "      <td>ilustrada</td>\n",
              "    </tr>\n",
              "    <tr>\n",
              "      <th>4</th>\n",
              "      <td>O CBSS, banco da holding Elopar dos sócios Bra...</td>\n",
              "      <td>mercado</td>\n",
              "    </tr>\n",
              "  </tbody>\n",
              "</table>\n",
              "</div>\n",
              "    <div class=\"colab-df-buttons\">\n",
              "\n",
              "  <div class=\"colab-df-container\">\n",
              "    <button class=\"colab-df-convert\" onclick=\"convertToInteractive('df-7e0dfb5b-1540-400e-b481-8a9dd8958ab6')\"\n",
              "            title=\"Convert this dataframe to an interactive table.\"\n",
              "            style=\"display:none;\">\n",
              "\n",
              "  <svg xmlns=\"http://www.w3.org/2000/svg\" height=\"24px\" viewBox=\"0 -960 960 960\">\n",
              "    <path d=\"M120-120v-720h720v720H120Zm60-500h600v-160H180v160Zm220 220h160v-160H400v160Zm0 220h160v-160H400v160ZM180-400h160v-160H180v160Zm440 0h160v-160H620v160ZM180-180h160v-160H180v160Zm440 0h160v-160H620v160Z\"/>\n",
              "  </svg>\n",
              "    </button>\n",
              "\n",
              "  <style>\n",
              "    .colab-df-container {\n",
              "      display:flex;\n",
              "      gap: 12px;\n",
              "    }\n",
              "\n",
              "    .colab-df-convert {\n",
              "      background-color: #E8F0FE;\n",
              "      border: none;\n",
              "      border-radius: 50%;\n",
              "      cursor: pointer;\n",
              "      display: none;\n",
              "      fill: #1967D2;\n",
              "      height: 32px;\n",
              "      padding: 0 0 0 0;\n",
              "      width: 32px;\n",
              "    }\n",
              "\n",
              "    .colab-df-convert:hover {\n",
              "      background-color: #E2EBFA;\n",
              "      box-shadow: 0px 1px 2px rgba(60, 64, 67, 0.3), 0px 1px 3px 1px rgba(60, 64, 67, 0.15);\n",
              "      fill: #174EA6;\n",
              "    }\n",
              "\n",
              "    .colab-df-buttons div {\n",
              "      margin-bottom: 4px;\n",
              "    }\n",
              "\n",
              "    [theme=dark] .colab-df-convert {\n",
              "      background-color: #3B4455;\n",
              "      fill: #D2E3FC;\n",
              "    }\n",
              "\n",
              "    [theme=dark] .colab-df-convert:hover {\n",
              "      background-color: #434B5C;\n",
              "      box-shadow: 0px 1px 3px 1px rgba(0, 0, 0, 0.15);\n",
              "      filter: drop-shadow(0px 1px 2px rgba(0, 0, 0, 0.3));\n",
              "      fill: #FFFFFF;\n",
              "    }\n",
              "  </style>\n",
              "\n",
              "    <script>\n",
              "      const buttonEl =\n",
              "        document.querySelector('#df-7e0dfb5b-1540-400e-b481-8a9dd8958ab6 button.colab-df-convert');\n",
              "      buttonEl.style.display =\n",
              "        google.colab.kernel.accessAllowed ? 'block' : 'none';\n",
              "\n",
              "      async function convertToInteractive(key) {\n",
              "        const element = document.querySelector('#df-7e0dfb5b-1540-400e-b481-8a9dd8958ab6');\n",
              "        const dataTable =\n",
              "          await google.colab.kernel.invokeFunction('convertToInteractive',\n",
              "                                                    [key], {});\n",
              "        if (!dataTable) return;\n",
              "\n",
              "        const docLinkHtml = 'Like what you see? Visit the ' +\n",
              "          '<a target=\"_blank\" href=https://colab.research.google.com/notebooks/data_table.ipynb>data table notebook</a>'\n",
              "          + ' to learn more about interactive tables.';\n",
              "        element.innerHTML = '';\n",
              "        dataTable['output_type'] = 'display_data';\n",
              "        await google.colab.output.renderOutput(dataTable, element);\n",
              "        const docLink = document.createElement('div');\n",
              "        docLink.innerHTML = docLinkHtml;\n",
              "        element.appendChild(docLink);\n",
              "      }\n",
              "    </script>\n",
              "  </div>\n",
              "\n",
              "\n",
              "<div id=\"df-0366ef73-7493-4c86-9bcb-b2804622599f\">\n",
              "  <button class=\"colab-df-quickchart\" onclick=\"quickchart('df-0366ef73-7493-4c86-9bcb-b2804622599f')\"\n",
              "            title=\"Suggest charts\"\n",
              "            style=\"display:none;\">\n",
              "\n",
              "<svg xmlns=\"http://www.w3.org/2000/svg\" height=\"24px\"viewBox=\"0 0 24 24\"\n",
              "     width=\"24px\">\n",
              "    <g>\n",
              "        <path d=\"M19 3H5c-1.1 0-2 .9-2 2v14c0 1.1.9 2 2 2h14c1.1 0 2-.9 2-2V5c0-1.1-.9-2-2-2zM9 17H7v-7h2v7zm4 0h-2V7h2v10zm4 0h-2v-4h2v4z\"/>\n",
              "    </g>\n",
              "</svg>\n",
              "  </button>\n",
              "\n",
              "<style>\n",
              "  .colab-df-quickchart {\n",
              "      --bg-color: #E8F0FE;\n",
              "      --fill-color: #1967D2;\n",
              "      --hover-bg-color: #E2EBFA;\n",
              "      --hover-fill-color: #174EA6;\n",
              "      --disabled-fill-color: #AAA;\n",
              "      --disabled-bg-color: #DDD;\n",
              "  }\n",
              "\n",
              "  [theme=dark] .colab-df-quickchart {\n",
              "      --bg-color: #3B4455;\n",
              "      --fill-color: #D2E3FC;\n",
              "      --hover-bg-color: #434B5C;\n",
              "      --hover-fill-color: #FFFFFF;\n",
              "      --disabled-bg-color: #3B4455;\n",
              "      --disabled-fill-color: #666;\n",
              "  }\n",
              "\n",
              "  .colab-df-quickchart {\n",
              "    background-color: var(--bg-color);\n",
              "    border: none;\n",
              "    border-radius: 50%;\n",
              "    cursor: pointer;\n",
              "    display: none;\n",
              "    fill: var(--fill-color);\n",
              "    height: 32px;\n",
              "    padding: 0;\n",
              "    width: 32px;\n",
              "  }\n",
              "\n",
              "  .colab-df-quickchart:hover {\n",
              "    background-color: var(--hover-bg-color);\n",
              "    box-shadow: 0 1px 2px rgba(60, 64, 67, 0.3), 0 1px 3px 1px rgba(60, 64, 67, 0.15);\n",
              "    fill: var(--button-hover-fill-color);\n",
              "  }\n",
              "\n",
              "  .colab-df-quickchart-complete:disabled,\n",
              "  .colab-df-quickchart-complete:disabled:hover {\n",
              "    background-color: var(--disabled-bg-color);\n",
              "    fill: var(--disabled-fill-color);\n",
              "    box-shadow: none;\n",
              "  }\n",
              "\n",
              "  .colab-df-spinner {\n",
              "    border: 2px solid var(--fill-color);\n",
              "    border-color: transparent;\n",
              "    border-bottom-color: var(--fill-color);\n",
              "    animation:\n",
              "      spin 1s steps(1) infinite;\n",
              "  }\n",
              "\n",
              "  @keyframes spin {\n",
              "    0% {\n",
              "      border-color: transparent;\n",
              "      border-bottom-color: var(--fill-color);\n",
              "      border-left-color: var(--fill-color);\n",
              "    }\n",
              "    20% {\n",
              "      border-color: transparent;\n",
              "      border-left-color: var(--fill-color);\n",
              "      border-top-color: var(--fill-color);\n",
              "    }\n",
              "    30% {\n",
              "      border-color: transparent;\n",
              "      border-left-color: var(--fill-color);\n",
              "      border-top-color: var(--fill-color);\n",
              "      border-right-color: var(--fill-color);\n",
              "    }\n",
              "    40% {\n",
              "      border-color: transparent;\n",
              "      border-right-color: var(--fill-color);\n",
              "      border-top-color: var(--fill-color);\n",
              "    }\n",
              "    60% {\n",
              "      border-color: transparent;\n",
              "      border-right-color: var(--fill-color);\n",
              "    }\n",
              "    80% {\n",
              "      border-color: transparent;\n",
              "      border-right-color: var(--fill-color);\n",
              "      border-bottom-color: var(--fill-color);\n",
              "    }\n",
              "    90% {\n",
              "      border-color: transparent;\n",
              "      border-bottom-color: var(--fill-color);\n",
              "    }\n",
              "  }\n",
              "</style>\n",
              "\n",
              "  <script>\n",
              "    async function quickchart(key) {\n",
              "      const quickchartButtonEl =\n",
              "        document.querySelector('#' + key + ' button');\n",
              "      quickchartButtonEl.disabled = true;  // To prevent multiple clicks.\n",
              "      quickchartButtonEl.classList.add('colab-df-spinner');\n",
              "      try {\n",
              "        const charts = await google.colab.kernel.invokeFunction(\n",
              "            'suggestCharts', [key], {});\n",
              "      } catch (error) {\n",
              "        console.error('Error during call to suggestCharts:', error);\n",
              "      }\n",
              "      quickchartButtonEl.classList.remove('colab-df-spinner');\n",
              "      quickchartButtonEl.classList.add('colab-df-quickchart-complete');\n",
              "    }\n",
              "    (() => {\n",
              "      let quickchartButtonEl =\n",
              "        document.querySelector('#df-0366ef73-7493-4c86-9bcb-b2804622599f button');\n",
              "      quickchartButtonEl.style.display =\n",
              "        google.colab.kernel.accessAllowed ? 'block' : 'none';\n",
              "    })();\n",
              "  </script>\n",
              "</div>\n",
              "\n",
              "    </div>\n",
              "  </div>\n"
            ],
            "application/vnd.google.colaboratory.intrinsic+json": {
              "type": "dataframe",
              "variable_name": "df_folha"
            }
          },
          "metadata": {},
          "execution_count": 4
        }
      ]
    },
    {
      "cell_type": "code",
      "source": [
        "from sklearn.model_selection import train_test_split\n",
        "from datasets import Dataset, Value, ClassLabel, Features, DatasetDict\n",
        "\n",
        "labels, class_names = pd.factorize(df_folha['category'],sort=True)\n",
        "class_names = list(class_names.values)\n",
        "df_folha['labels'] = labels\n",
        "\n",
        "train, test = train_test_split(df_folha[['text','labels']].sample(n='????'), test_size=0.2, random_state=42)\n",
        "\n",
        "features = Features({\"text\": Value(\"string\"),\"labels\": ClassLabel(names=class_names)})\n",
        "\n",
        "dataset = DatasetDict({\n",
        "    \"train\": Dataset.from_pandas(train, '???', preserve_index=False),\n",
        "    \"test\": Dataset.from_pandas(test, '???', preserve_index=False)\n",
        "    })\n",
        "\n",
        "print('dataset =',dataset)\n",
        "print(\"dataset['train'].features =\",dataset['train'].features)\n",
        "\n",
        "id2label = {id:label for id, label in enumerate(class_names)}\n",
        "label2id = {label:id for id,label in id2label.items()}\n",
        "print('id2label =',id2label)\n",
        "print('label2id =', label2id)"
      ],
      "metadata": {
        "id": "Kuip4t0QP73v"
      },
      "execution_count": null,
      "outputs": []
    },
    {
      "cell_type": "code",
      "source": [
        "dataset['train'][7]['text'], dataset['train'][7]['labels']"
      ],
      "metadata": {
        "id": "yEM-XMTyU7Nm"
      },
      "execution_count": null,
      "outputs": []
    },
    {
      "cell_type": "markdown",
      "source": [
        "## Modelo Neural"
      ],
      "metadata": {
        "id": "poK9kQMuWLfX"
      }
    },
    {
      "cell_type": "code",
      "source": [
        "model_checkpoint = '????' # não usar o 'distilbert-base-uncased'\n",
        "batch_size = 16"
      ],
      "metadata": {
        "id": "WOUKm7YlVJNX"
      },
      "execution_count": null,
      "outputs": []
    },
    {
      "cell_type": "code",
      "source": [
        "from transformers import AutoTokenizer\n",
        "tokenizer = AutoTokenizer.from_pretrained(model_checkpoint)\n",
        "tokenizer(dataset['train'][7]['text'])"
      ],
      "metadata": {
        "id": "m94LmAa9W0Ce"
      },
      "execution_count": null,
      "outputs": []
    },
    {
      "cell_type": "markdown",
      "source": [
        "### Convertendo Dataset para Tokens"
      ],
      "metadata": {
        "id": "GfSFmKPbb96h"
      }
    },
    {
      "cell_type": "code",
      "source": [
        "def preprocess_function(examples):\n",
        "  return tokenizer(examples['text'], truncation=True)\n",
        "\n",
        "encoded_dataset = dataset.map(preprocess_function, batched=True)\n",
        "encoded_dataset"
      ],
      "metadata": {
        "id": "XSWlDgW1aJE_"
      },
      "execution_count": null,
      "outputs": []
    },
    {
      "cell_type": "markdown",
      "source": [
        "## Ajuste-Fino"
      ],
      "metadata": {
        "id": "ro7tFZkqXMz_"
      }
    },
    {
      "cell_type": "code",
      "source": [
        "from transformers import AutoModelForSequenceClassification, Trainer, TrainingArguments, DataCollatorWithPadding\n",
        "\n",
        "# Load pre-trained DistilBERT model for sequence classification\n",
        "model = AutoModelForSequenceClassification.from_pretrained(model_checkpoint, num_labels='????')\n",
        "\n",
        "# Prepare data collator for padding sequences\n",
        "data_collator = DataCollatorWithPadding(tokenizer=tokenizer)\n",
        "\n",
        "# Define training arguments\n",
        "training_args = TrainingArguments('????')\n",
        "\n",
        "# Define Trainer object for training the model\n",
        "trainer = Trainer('???')\n",
        "\n",
        "# Train the model\n",
        "trainer.train()\n",
        "\n",
        "# Save the trained model\n",
        "trainer.save_model('model')"
      ],
      "metadata": {
        "id": "1eQD0O2ke9Jm"
      },
      "execution_count": null,
      "outputs": []
    },
    {
      "cell_type": "markdown",
      "source": [
        "## Avaliando Modelo Treinado"
      ],
      "metadata": {
        "id": "rlJHqzOHoG56"
      }
    },
    {
      "cell_type": "code",
      "source": [
        "outputs = trainer.predict(encoded_dataset['test'])"
      ],
      "metadata": {
        "id": "1BJokXxSoJoV"
      },
      "execution_count": null,
      "outputs": []
    },
    {
      "cell_type": "code",
      "source": [
        "from sklearn.metrics import confusion_matrix, ConfusionMatrixDisplay\n",
        "\n",
        "y_true = outputs.label_ids\n",
        "y_pred = outputs.predictions.argmax(1)\n",
        "\n",
        "labels = encoded_dataset['test'].features['labels'].names\n",
        "cm = confusion_matrix(y_true, y_pred)\n",
        "disp = ConfusionMatrixDisplay(confusion_matrix=cm, display_labels=labels)\n",
        "disp.plot(xticks_rotation=45)"
      ],
      "metadata": {
        "colab": {
          "base_uri": "https://localhost:8080/",
          "height": 508
        },
        "id": "goO3tTexoY6n",
        "outputId": "40cfcb9e-ed1f-4b82-f33f-1d19a99e6481"
      },
      "execution_count": null,
      "outputs": [
        {
          "output_type": "execute_result",
          "data": {
            "text/plain": [
              "<sklearn.metrics._plot.confusion_matrix.ConfusionMatrixDisplay at 0x7c020e22b7f0>"
            ]
          },
          "metadata": {},
          "execution_count": 16
        },
        {
          "output_type": "display_data",
          "data": {
            "text/plain": [
              "<Figure size 640x480 with 2 Axes>"
            ],
            "image/png": "[encoded data removed]"
          },
          "metadata": {}
        }
      ]
    },
    {
      "cell_type": "code",
      "source": [
        "from sklearn.metrics import classification_report\n",
        "\n",
        "print(classification_report(y_true, y_pred, target_names=labels))"
      ],
      "metadata": {
        "colab": {
          "base_uri": "https://localhost:8080/"
        },
        "id": "Zg0_R4GCou5P",
        "outputId": "e8cbfe5d-5bd1-4b27-dbe5-41d97f8183b7"
      },
      "execution_count": null,
      "outputs": [
        {
          "output_type": "stream",
          "name": "stdout",
          "text": [
            "              precision    recall  f1-score   support\n",
            "\n",
            "     colunas       0.70      0.63      0.66       145\n",
            "   cotidiano       0.78      0.75      0.77       120\n",
            "     esporte       0.91      0.95      0.93       143\n",
            "   ilustrada       0.83      0.89      0.86       123\n",
            "     mercado       0.81      0.86      0.83       157\n",
            "       mundo       0.81      0.83      0.82       124\n",
            "       poder       0.87      0.82      0.84       188\n",
            "\n",
            "    accuracy                           0.82      1000\n",
            "   macro avg       0.82      0.82      0.82      1000\n",
            "weighted avg       0.82      0.82      0.82      1000\n",
            "\n"
          ]
        }
      ]
    }
  ],
  "metadata": {
    "colab": {
      "provenance": [],
      "gpuType": "T4",
      "authorship_tag": "ABX9TyMyKDeR2NrlyqkeU+xU1zPm"
    },
    "kernelspec": {
      "display_name": "Python 3",
      "name": "python3"
    },
    "language_info": {
      "name": "python"
    },
    "accelerator": "GPU"
  },
  "nbformat": 4,
  "nbformat_minor": 0
}