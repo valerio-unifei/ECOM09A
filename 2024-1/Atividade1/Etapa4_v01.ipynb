{
 "cells": [
  {
   "cell_type": "markdown",
   "metadata": {},
   "source": [
    "# Experimento: Atividade 1 - Etapa 4 - Sem DL."
   ]
  },
  {
   "cell_type": "markdown",
   "metadata": {},
   "source": [
    "[Proposta On-line](https://docs.google.com/document/d/e/2PACX-1vQQ2A2PZbzVLz7PA0amF7gXN4tMSoGMXbZGpYphJNjSk158CR7jZ9gQWJ12U99xalHuQvSDfF022ypu/pub)"
   ]
  },
  {
   "cell_type": "markdown",
   "metadata": {},
   "source": [
    "Utilizar modelos pré-treinados de aprendizagem profunda para identificação de segmentos de áudio com deglutições"
   ]
  },
  {
   "cell_type": "markdown",
   "metadata": {},
   "source": [
    "## Quebrando os arquivos em janelas de 0.5s e passo 0.25s"
   ]
  },
  {
   "cell_type": "code",
   "execution_count": 7,
   "metadata": {},
   "outputs": [
    {
     "data": {
      "text/plain": [
       "224"
      ]
     },
     "execution_count": 7,
     "metadata": {},
     "output_type": "execute_result"
    }
   ],
   "source": [
    "import pandas as pd\n",
    "df_ca = pd.read_csv('classificacao_anomalias.csv')\n",
    "validos = df_ca[df_ca['Label']==0]['File Name'].values\n",
    "del df_ca\n",
    "len(validos)"
   ]
  },
  {
   "cell_type": "code",
   "execution_count": null,
   "metadata": {},
   "outputs": [],
   "source": [
    "# lendo mp3 e extraindo parâmetros de áudio\n",
    "import librosa\n",
    "import numpy as np\n",
    "from tqdm import tqdm\n",
    "import os\n",
    "\n",
    "dados = []\n",
    "for mp3 in tqdm(validos):\n",
    "    nome = os.path.basename(mp3)\n",
    "    yn, sr = librosa.load(mp3)\n",
    "\n",
    "    janela = 0.5 * sr\n",
    "    passo = 0.25 * sr\n",
    "\n",
    "    # janelas de y com tamanho janela e passo passo\n",
    "    y_janelas = librosa.util.frame(yn, frame_length=int(janela), hop_length=int(passo))\n",
    "\n",
    "    for y in y_janelas:\n",
    "        chroma_stft = librosa.feature.chroma_stft(y=y, sr=sr)\n",
    "        tonnetz = librosa.feature.tonnetz(y=y, sr=sr)\n",
    "        rmse = librosa.feature.rms(y=y)\n",
    "        spec_cent = librosa.feature.spectral_centroid(y=y, sr=sr)\n",
    "        spec_bw = librosa.feature.spectral_bandwidth(y=y, sr=sr)\n",
    "        rolloff = librosa.feature.spectral_rolloff(y=y, sr=sr)\n",
    "        zcr = librosa.feature.zero_crossing_rate(y)\n",
    "        mfcc = librosa.feature.mfcc(y=y, sr=sr)\n",
    "        melspectrogram = librosa.feature.melspectrogram(y=y, sr=sr)\n",
    "        # fazer a média dos valores\n",
    "        atributos = [nome]\n",
    "        atributos.extend(np.mean(chroma_stft,axis=1))\n",
    "        atributos.extend(np.mean(tonnetz,axis=1))\n",
    "        atributos.extend(np.mean(rmse,axis=1))\n",
    "        atributos.extend(np.mean(spec_cent,axis=1))\n",
    "        atributos.extend(np.mean(spec_bw,axis=1))\n",
    "        atributos.extend(np.mean(rolloff,axis=1))\n",
    "        atributos.extend(np.mean(zcr,axis=1))\n",
    "        atributos.extend(np.mean(mfcc,axis=1))\n",
    "        atributos.extend(np.mean(melspectrogram,axis=1))\n",
    "\n",
    "        atributos.extend(np.std(chroma_stft,axis=1))\n",
    "        atributos.extend(np.std(tonnetz,axis=1))\n",
    "        atributos.extend(np.std(rmse,axis=1))\n",
    "        atributos.extend(np.std(spec_cent,axis=1))\n",
    "        atributos.extend(np.std(spec_bw,axis=1))\n",
    "        atributos.extend(np.std(rolloff,axis=1))\n",
    "        atributos.extend(np.std(zcr,axis=1))\n",
    "        atributos.extend(np.std(mfcc,axis=1))\n",
    "        atributos.extend(np.std(melspectrogram,axis=1))\n",
    "\n",
    "        atributos.extend(np.ptp(chroma_stft,axis=1))\n",
    "        atributos.extend(np.ptp(tonnetz,axis=1))\n",
    "        atributos.extend(np.ptp(rmse,axis=1))\n",
    "        atributos.extend(np.ptp(spec_cent,axis=1))\n",
    "        atributos.extend(np.ptp(spec_bw,axis=1))\n",
    "        atributos.extend(np.ptp(rolloff,axis=1))\n",
    "        atributos.extend(np.ptp(zcr,axis=1))\n",
    "        atributos.extend(np.ptp(mfcc,axis=1))\n",
    "        atributos.extend(np.ptp(melspectrogram,axis=1))\n",
    "\n",
    "df = pd.DataFrame(dados)\n",
    "df.head()"
   ]
  }
 ],
 "metadata": {
  "kernelspec": {
   "display_name": "venv",
   "language": "python",
   "name": "python3"
  },
  "language_info": {
   "codemirror_mode": {
    "name": "ipython",
    "version": 3
   },
   "file_extension": ".py",
   "mimetype": "text/x-python",
   "name": "python",
   "nbconvert_exporter": "python",
   "pygments_lexer": "ipython3",
   "version": "3.10.11"
  }
 },
 "nbformat": 4,
 "nbformat_minor": 2
}
