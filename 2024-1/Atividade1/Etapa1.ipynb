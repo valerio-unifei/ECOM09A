{
 "cells": [
  {
   "cell_type": "markdown",
   "metadata": {},
   "source": [
    "# Atividade 1 - Etapa 1 - Deglutição Válida"
   ]
  },
  {
   "cell_type": "markdown",
   "metadata": {},
   "source": [
    "Proposta:\n",
    "\n",
    "https://docs.google.com/document/d/e/2PACX-1vQQ2A2PZbzVLz7PA0amF7gXN4tMSoGMXbZGpYphJNjSk158CR7jZ9gQWJ12U99xalHuQvSDfF022ypu/pub"
   ]
  },
  {
   "cell_type": "markdown",
   "metadata": {},
   "source": [
    "## Base de Dados"
   ]
  },
  {
   "cell_type": "code",
   "execution_count": 1,
   "metadata": {},
   "outputs": [
    {
     "name": "stderr",
     "output_type": "stream",
     "text": [
      "Downloading...\n",
      "From (original): https://drive.google.com/uc?id=1z1sqrxP_Ozdcu3sKvJDN7GJIxrv5TXBu\n",
      "From (redirected): https://drive.google.com/uc?id=1z1sqrxP_Ozdcu3sKvJDN7GJIxrv5TXBu&confirm=t&uuid=675c8078-5cf0-426d-9300-d51bf07bec90\n",
      "To: c:\\Repositorio Offline\\ECOM09A\\2024-1\\Atividade1\\dataset.zip\n",
      "100%|██████████| 102M/102M [03:53<00:00, 436kB/s]  \n"
     ]
    },
    {
     "data": {
      "text/plain": [
       "'dataset.zip'"
      ]
     },
     "execution_count": 1,
     "metadata": {},
     "output_type": "execute_result"
    }
   ],
   "source": [
    "import gdown\n",
    "url = 'https://drive.google.com/file/d/1z1sqrxP_Ozdcu3sKvJDN7GJIxrv5TXBu/view?usp=drive_link'\n",
    "gdown.download(url,fuzzy=True,output='dataset.zip')"
   ]
  },
  {
   "cell_type": "code",
   "execution_count": 2,
   "metadata": {},
   "outputs": [],
   "source": [
    "# descompactando arquivo\n",
    "import zipfile\n",
    "with zipfile.ZipFile('dataset.zip', 'r') as zip_ref:\n",
    "    zip_ref.extractall('dataset')"
   ]
  },
  {
   "cell_type": "code",
   "execution_count": 3,
   "metadata": {},
   "outputs": [],
   "source": [
    "# remove zip\n",
    "import os\n",
    "os.remove('dataset.zip')"
   ]
  },
  {
   "cell_type": "markdown",
   "metadata": {},
   "source": [
    "## Extraindo informações dos audios"
   ]
  },
  {
   "cell_type": "code",
   "execution_count": 16,
   "metadata": {},
   "outputs": [
    {
     "name": "stderr",
     "output_type": "stream",
     "text": [
      "100%|██████████| 490/490 [02:30<00:00,  3.26it/s]\n"
     ]
    },
    {
     "data": {
      "text/html": [
       "<div>\n",
       "<style scoped>\n",
       "    .dataframe tbody tr th:only-of-type {\n",
       "        vertical-align: middle;\n",
       "    }\n",
       "\n",
       "    .dataframe tbody tr th {\n",
       "        vertical-align: top;\n",
       "    }\n",
       "\n",
       "    .dataframe thead th {\n",
       "        text-align: right;\n",
       "    }\n",
       "</style>\n",
       "<table border=\"1\" class=\"dataframe\">\n",
       "  <thead>\n",
       "    <tr style=\"text-align: right;\">\n",
       "      <th></th>\n",
       "      <th>0</th>\n",
       "      <th>1</th>\n",
       "      <th>2</th>\n",
       "      <th>3</th>\n",
       "      <th>4</th>\n",
       "      <th>5</th>\n",
       "      <th>6</th>\n",
       "      <th>7</th>\n",
       "      <th>8</th>\n",
       "      <th>9</th>\n",
       "      <th>...</th>\n",
       "      <th>28</th>\n",
       "      <th>29</th>\n",
       "      <th>30</th>\n",
       "      <th>31</th>\n",
       "      <th>32</th>\n",
       "      <th>33</th>\n",
       "      <th>34</th>\n",
       "      <th>35</th>\n",
       "      <th>36</th>\n",
       "      <th>37</th>\n",
       "    </tr>\n",
       "  </thead>\n",
       "  <tbody>\n",
       "    <tr>\n",
       "      <th>0</th>\n",
       "      <td>a00001.mp3</td>\n",
       "      <td>0.619257</td>\n",
       "      <td>0.591173</td>\n",
       "      <td>0.588934</td>\n",
       "      <td>0.576050</td>\n",
       "      <td>0.569039</td>\n",
       "      <td>0.558396</td>\n",
       "      <td>0.591615</td>\n",
       "      <td>0.588218</td>\n",
       "      <td>0.560607</td>\n",
       "      <td>...</td>\n",
       "      <td>-12.914958</td>\n",
       "      <td>-8.228361</td>\n",
       "      <td>-10.005320</td>\n",
       "      <td>-9.044372</td>\n",
       "      <td>-9.907545</td>\n",
       "      <td>-8.394353</td>\n",
       "      <td>-9.334880</td>\n",
       "      <td>-6.777099</td>\n",
       "      <td>-8.923019</td>\n",
       "      <td>-6.725427</td>\n",
       "    </tr>\n",
       "    <tr>\n",
       "      <th>1</th>\n",
       "      <td>a00002.mp3</td>\n",
       "      <td>0.579076</td>\n",
       "      <td>0.561442</td>\n",
       "      <td>0.574778</td>\n",
       "      <td>0.592735</td>\n",
       "      <td>0.597341</td>\n",
       "      <td>0.586346</td>\n",
       "      <td>0.579085</td>\n",
       "      <td>0.572200</td>\n",
       "      <td>0.559282</td>\n",
       "      <td>...</td>\n",
       "      <td>-4.921903</td>\n",
       "      <td>-4.178082</td>\n",
       "      <td>-4.070145</td>\n",
       "      <td>-4.082938</td>\n",
       "      <td>-4.426908</td>\n",
       "      <td>-4.124296</td>\n",
       "      <td>-4.116983</td>\n",
       "      <td>-3.228512</td>\n",
       "      <td>-2.619876</td>\n",
       "      <td>-1.892528</td>\n",
       "    </tr>\n",
       "    <tr>\n",
       "      <th>2</th>\n",
       "      <td>a00003.mp3</td>\n",
       "      <td>0.659991</td>\n",
       "      <td>0.666785</td>\n",
       "      <td>0.614245</td>\n",
       "      <td>0.595386</td>\n",
       "      <td>0.595084</td>\n",
       "      <td>0.606930</td>\n",
       "      <td>0.569941</td>\n",
       "      <td>0.548508</td>\n",
       "      <td>0.509913</td>\n",
       "      <td>...</td>\n",
       "      <td>-12.366119</td>\n",
       "      <td>-6.802912</td>\n",
       "      <td>-8.757007</td>\n",
       "      <td>-7.462749</td>\n",
       "      <td>-9.101726</td>\n",
       "      <td>-7.317169</td>\n",
       "      <td>-9.505013</td>\n",
       "      <td>-6.167764</td>\n",
       "      <td>-7.143456</td>\n",
       "      <td>-4.136239</td>\n",
       "    </tr>\n",
       "    <tr>\n",
       "      <th>3</th>\n",
       "      <td>a00004.mp3</td>\n",
       "      <td>0.595119</td>\n",
       "      <td>0.439680</td>\n",
       "      <td>0.370019</td>\n",
       "      <td>0.396822</td>\n",
       "      <td>0.355503</td>\n",
       "      <td>0.330981</td>\n",
       "      <td>0.379730</td>\n",
       "      <td>0.433511</td>\n",
       "      <td>0.469010</td>\n",
       "      <td>...</td>\n",
       "      <td>-1.225749</td>\n",
       "      <td>4.526946</td>\n",
       "      <td>-1.537243</td>\n",
       "      <td>0.773656</td>\n",
       "      <td>-1.744216</td>\n",
       "      <td>1.602321</td>\n",
       "      <td>-3.417079</td>\n",
       "      <td>0.585987</td>\n",
       "      <td>-1.309876</td>\n",
       "      <td>2.340520</td>\n",
       "    </tr>\n",
       "    <tr>\n",
       "      <th>4</th>\n",
       "      <td>a00005.mp3</td>\n",
       "      <td>0.600767</td>\n",
       "      <td>0.576361</td>\n",
       "      <td>0.621725</td>\n",
       "      <td>0.593066</td>\n",
       "      <td>0.625016</td>\n",
       "      <td>0.594525</td>\n",
       "      <td>0.563292</td>\n",
       "      <td>0.547832</td>\n",
       "      <td>0.565713</td>\n",
       "      <td>...</td>\n",
       "      <td>-11.525387</td>\n",
       "      <td>-6.937714</td>\n",
       "      <td>-9.290621</td>\n",
       "      <td>-9.333829</td>\n",
       "      <td>-8.506713</td>\n",
       "      <td>-6.808221</td>\n",
       "      <td>-8.480545</td>\n",
       "      <td>-6.727121</td>\n",
       "      <td>-6.899271</td>\n",
       "      <td>-4.344141</td>\n",
       "    </tr>\n",
       "  </tbody>\n",
       "</table>\n",
       "<p>5 rows × 38 columns</p>\n",
       "</div>"
      ],
      "text/plain": [
       "           0         1         2         3         4         5         6   \\\n",
       "0  a00001.mp3  0.619257  0.591173  0.588934  0.576050  0.569039  0.558396   \n",
       "1  a00002.mp3  0.579076  0.561442  0.574778  0.592735  0.597341  0.586346   \n",
       "2  a00003.mp3  0.659991  0.666785  0.614245  0.595386  0.595084  0.606930   \n",
       "3  a00004.mp3  0.595119  0.439680  0.370019  0.396822  0.355503  0.330981   \n",
       "4  a00005.mp3  0.600767  0.576361  0.621725  0.593066  0.625016  0.594525   \n",
       "\n",
       "         7         8         9   ...         28        29         30  \\\n",
       "0  0.591615  0.588218  0.560607  ... -12.914958 -8.228361 -10.005320   \n",
       "1  0.579085  0.572200  0.559282  ...  -4.921903 -4.178082  -4.070145   \n",
       "2  0.569941  0.548508  0.509913  ... -12.366119 -6.802912  -8.757007   \n",
       "3  0.379730  0.433511  0.469010  ...  -1.225749  4.526946  -1.537243   \n",
       "4  0.563292  0.547832  0.565713  ... -11.525387 -6.937714  -9.290621   \n",
       "\n",
       "         31        32        33        34        35        36        37  \n",
       "0 -9.044372 -9.907545 -8.394353 -9.334880 -6.777099 -8.923019 -6.725427  \n",
       "1 -4.082938 -4.426908 -4.124296 -4.116983 -3.228512 -2.619876 -1.892528  \n",
       "2 -7.462749 -9.101726 -7.317169 -9.505013 -6.167764 -7.143456 -4.136239  \n",
       "3  0.773656 -1.744216  1.602321 -3.417079  0.585987 -1.309876  2.340520  \n",
       "4 -9.333829 -8.506713 -6.808221 -8.480545 -6.727121 -6.899271 -4.344141  \n",
       "\n",
       "[5 rows x 38 columns]"
      ]
     },
     "execution_count": 16,
     "metadata": {},
     "output_type": "execute_result"
    }
   ],
   "source": [
    "# lendo mp3 e extraindo parâmetros de áudio\n",
    "import glob\n",
    "import librosa\n",
    "import numpy as np\n",
    "import pandas as pd\n",
    "from tqdm import tqdm\n",
    "\n",
    "mp3s = glob.glob('dataset/MP3/*.mp3')\n",
    "\n",
    "dados = []\n",
    "for mp3 in tqdm(mp3s):\n",
    "    nome = os.path.basename(mp3)\n",
    "    y, sr = librosa.load(mp3)\n",
    "    chroma_stft = librosa.feature.chroma_stft(y=y, sr=sr)\n",
    "    rmse = librosa.feature.rms(y=y)\n",
    "    spec_cent = librosa.feature.spectral_centroid(y=y, sr=sr)\n",
    "    spec_bw = librosa.feature.spectral_bandwidth(y=y, sr=sr)\n",
    "    rolloff = librosa.feature.spectral_rolloff(y=y, sr=sr)\n",
    "    zcr = librosa.feature.zero_crossing_rate(y)\n",
    "    mfcc = librosa.feature.mfcc(y=y, sr=sr)\n",
    "    # fazer a média dos valores\n",
    "    chroma_stft = np.mean(chroma_stft,axis=1)\n",
    "    rmse = np.mean(rmse,axis=1)\n",
    "    spec_cent = np.mean(spec_cent,axis=1)\n",
    "    spec_bw = np.mean(spec_bw,axis=1)\n",
    "    rolloff = np.mean(rolloff,axis=1)\n",
    "    zcr = np.mean(zcr,axis=1)\n",
    "    mfcc = np.mean(mfcc,axis=1)\n",
    "    atributos = [nome]\n",
    "    atributos.extend(chroma_stft)\n",
    "    atributos.extend(rmse)\n",
    "    atributos.extend(spec_cent)\n",
    "    atributos.extend(spec_bw)\n",
    "    atributos.extend(rolloff)\n",
    "    atributos.extend(zcr)\n",
    "    atributos.extend(mfcc)\n",
    "    dados.append(atributos)\n",
    "\n",
    "df = pd.DataFrame(dados)\n",
    "df.head()"
   ]
  },
  {
   "cell_type": "code",
   "execution_count": 17,
   "metadata": {},
   "outputs": [],
   "source": [
    "df.to_csv('arquivos.csv',index=False)"
   ]
  }
 ],
 "metadata": {
  "kernelspec": {
   "display_name": "venv",
   "language": "python",
   "name": "python3"
  },
  "language_info": {
   "codemirror_mode": {
    "name": "ipython",
    "version": 3
   },
   "file_extension": ".py",
   "mimetype": "text/x-python",
   "name": "python",
   "nbconvert_exporter": "python",
   "pygments_lexer": "ipython3",
   "version": "3.10.11"
  }
 },
 "nbformat": 4,
 "nbformat_minor": 2
}
