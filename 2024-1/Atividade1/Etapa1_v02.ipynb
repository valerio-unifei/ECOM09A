{
 "cells": [
  {
   "cell_type": "markdown",
   "metadata": {},
   "source": [
    "# Atividade 1 - Etapa 1 - Deglutição Válida"
   ]
  },
  {
   "cell_type": "markdown",
   "metadata": {},
   "source": [
    "Proposta:\n",
    "\n",
    "https://docs.google.com/document/d/e/2PACX-1vQQ2A2PZbzVLz7PA0amF7gXN4tMSoGMXbZGpYphJNjSk158CR7jZ9gQWJ12U99xalHuQvSDfF022ypu/pub"
   ]
  },
  {
   "cell_type": "markdown",
   "metadata": {},
   "source": [
    "## Base de Dados"
   ]
  },
  {
   "cell_type": "code",
   "execution_count": 1,
   "metadata": {},
   "outputs": [
    {
     "name": "stderr",
     "output_type": "stream",
     "text": [
      "Downloading...\n",
      "From (original): https://drive.google.com/uc?id=1z1sqrxP_Ozdcu3sKvJDN7GJIxrv5TXBu\n",
      "From (redirected): https://drive.google.com/uc?id=1z1sqrxP_Ozdcu3sKvJDN7GJIxrv5TXBu&confirm=t&uuid=675c8078-5cf0-426d-9300-d51bf07bec90\n",
      "To: c:\\Repositorio Offline\\ECOM09A\\2024-1\\Atividade1\\dataset.zip\n",
      "100%|██████████| 102M/102M [03:53<00:00, 436kB/s]  \n"
     ]
    },
    {
     "data": {
      "text/plain": [
       "'dataset.zip'"
      ]
     },
     "execution_count": 1,
     "metadata": {},
     "output_type": "execute_result"
    }
   ],
   "source": [
    "import gdown\n",
    "url = 'https://drive.google.com/file/d/1z1sqrxP_Ozdcu3sKvJDN7GJIxrv5TXBu/view?usp=drive_link'\n",
    "gdown.download(url,fuzzy=True,output='dataset.zip')"
   ]
  },
  {
   "cell_type": "code",
   "execution_count": 2,
   "metadata": {},
   "outputs": [],
   "source": [
    "# descompactando arquivo\n",
    "import zipfile\n",
    "with zipfile.ZipFile('dataset.zip', 'r') as zip_ref:\n",
    "    zip_ref.extractall('dataset')"
   ]
  },
  {
   "cell_type": "code",
   "execution_count": 3,
   "metadata": {},
   "outputs": [],
   "source": [
    "# remove zip\n",
    "import os\n",
    "os.remove('dataset.zip')"
   ]
  },
  {
   "cell_type": "markdown",
   "metadata": {},
   "source": [
    "## Extraindo informações dos audios"
   ]
  },
  {
   "cell_type": "code",
   "execution_count": 7,
   "metadata": {},
   "outputs": [
    {
     "name": "stderr",
     "output_type": "stream",
     "text": [
      "  0%|          | 0/490 [00:00<?, ?it/s]"
     ]
    },
    {
     "name": "stderr",
     "output_type": "stream",
     "text": [
      " 70%|███████   | 345/490 [03:32<01:43,  1.40it/s]"
     ]
    }
   ],
   "source": [
    "# lendo mp3 e extraindo parâmetros de áudio\n",
    "import glob\n",
    "import librosa\n",
    "import numpy as np\n",
    "import pandas as pd\n",
    "from tqdm import tqdm\n",
    "import os\n",
    "\n",
    "mp3s = glob.glob('dataset/MP3/*.mp3')\n",
    "\n",
    "dados = []\n",
    "for mp3 in tqdm(mp3s):\n",
    "    nome = os.path.basename(mp3)\n",
    "    y, sr = librosa.load(mp3)\n",
    "    chroma_stft = librosa.feature.chroma_stft(y=y, sr=sr)\n",
    "    tonnetz = librosa.feature.tonnetz(y=y, sr=sr)\n",
    "    rmse = librosa.feature.rms(y=y)\n",
    "    spec_cent = librosa.feature.spectral_centroid(y=y, sr=sr)\n",
    "    spec_bw = librosa.feature.spectral_bandwidth(y=y, sr=sr)\n",
    "    rolloff = librosa.feature.spectral_rolloff(y=y, sr=sr)\n",
    "    zcr = librosa.feature.zero_crossing_rate(y)\n",
    "    mfcc = librosa.feature.mfcc(y=y, sr=sr)\n",
    "    melspectrogram = librosa.feature.melspectrogram(y=y, sr=sr)\n",
    "    # fazer a média dos valores\n",
    "    atributos = [nome]\n",
    "    atributos.extend(np.mean(chroma_stft,axis=1))\n",
    "    atributos.extend(np.mean(tonnetz,axis=1))\n",
    "    atributos.extend(np.mean(rmse,axis=1))\n",
    "    atributos.extend(np.mean(spec_cent,axis=1))\n",
    "    atributos.extend(np.mean(spec_bw,axis=1))\n",
    "    atributos.extend(np.mean(rolloff,axis=1))\n",
    "    atributos.extend(np.mean(zcr,axis=1))\n",
    "    atributos.extend(np.mean(mfcc,axis=1))\n",
    "    atributos.extend(np.mean(melspectrogram,axis=1))\n",
    "\n",
    "    atributos.extend(np.std(chroma_stft,axis=1))\n",
    "    atributos.extend(np.std(tonnetz,axis=1))\n",
    "    atributos.extend(np.std(rmse,axis=1))\n",
    "    atributos.extend(np.std(spec_cent,axis=1))\n",
    "    atributos.extend(np.std(spec_bw,axis=1))\n",
    "    atributos.extend(np.std(rolloff,axis=1))\n",
    "    atributos.extend(np.std(zcr,axis=1))\n",
    "    atributos.extend(np.std(mfcc,axis=1))\n",
    "    atributos.extend(np.std(melspectrogram,axis=1))\n",
    "\n",
    "    atributos.extend(np.ptp(chroma_stft,axis=1))\n",
    "    atributos.extend(np.ptp(tonnetz,axis=1))\n",
    "    atributos.extend(np.ptp(rmse,axis=1))\n",
    "    atributos.extend(np.ptp(spec_cent,axis=1))\n",
    "    atributos.extend(np.ptp(spec_bw,axis=1))\n",
    "    atributos.extend(np.ptp(rolloff,axis=1))\n",
    "    atributos.extend(np.ptp(zcr,axis=1))\n",
    "    atributos.extend(np.ptp(mfcc,axis=1))\n",
    "    atributos.extend(np.ptp(melspectrogram,axis=1))\n",
    "    \n",
    "    dados.append(atributos)\n",
    "\n",
    "df = pd.DataFrame(dados)\n",
    "df.head()"
   ]
  },
  {
   "cell_type": "code",
   "execution_count": null,
   "metadata": {},
   "outputs": [],
   "source": [
    "df.to_csv('arquivos.csv',index=False)"
   ]
  }
 ],
 "metadata": {
  "kernelspec": {
   "display_name": "venv",
   "language": "python",
   "name": "python3"
  },
  "language_info": {
   "codemirror_mode": {
    "name": "ipython",
    "version": 3
   },
   "file_extension": ".py",
   "mimetype": "text/x-python",
   "name": "python",
   "nbconvert_exporter": "python",
   "pygments_lexer": "ipython3",
   "version": "3.10.11"
  }
 },
 "nbformat": 4,
 "nbformat_minor": 2
}
