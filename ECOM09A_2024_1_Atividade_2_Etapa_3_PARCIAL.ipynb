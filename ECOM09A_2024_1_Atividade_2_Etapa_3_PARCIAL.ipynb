{
  "cells": [
    {
      "cell_type": "markdown",
      "metadata": {
        "id": "view-in-github",
        "colab_type": "text"
      },
      "source": [
        "<a href=\"https://colab.research.google.com/github/valerio-unifei/ECOM09A/blob/main/ECOM09A_2024_1_Atividade_2_Etapa_3_PARCIAL.ipynb\" target=\"_parent\"><img src=\"https://colab.research.google.com/assets/colab-badge.svg\" alt=\"Open In Colab\"/></a>"
      ]
    },
    {
      "cell_type": "markdown",
      "metadata": {
        "id": "94dW8V8Si76O"
      },
      "source": [
        "# ECOM09A Atividade 2 Etapa 3"
      ]
    },
    {
      "cell_type": "markdown",
      "metadata": {
        "id": "vAB4zT8IlQ-O"
      },
      "source": [
        "[Proposta](https://docs.google.com/document/d/e/2PACX-1vS-DZIR4CM_abUC7bgTtd3x5X_QCdh8Y3FdVdEQbTfTRricAduuQK5i_yQIHdMoKddV6g9QONtp-BuN/pub)\n",
        "\n",
        "(07/06/2024) Usar método GloVe(Atualizado):\n",
        "- GloVe em Português: http://nilc.icmc.usp.br/embeddings\n",
        "- Exemplo de código: How to Detect Fake and Real News with Natural Language Processing"
      ]
    },
    {
      "cell_type": "markdown",
      "source": [
        "## Configuração"
      ],
      "metadata": {
        "id": "Ocdj1ywr8Aef"
      }
    },
    {
      "cell_type": "code",
      "source": [
        "import os\n",
        "\n",
        "# Only the TensorFlow backend supports string inputs.\n",
        "os.environ[\"KERAS_BACKEND\"] = \"tensorflow\"\n",
        "\n",
        "import pathlib\n",
        "import numpy as np\n",
        "import tensorflow.data as tf_data\n",
        "import keras\n",
        "from keras import layers"
      ],
      "metadata": {
        "id": "VoqBBpT08EHr"
      },
      "execution_count": null,
      "outputs": []
    },
    {
      "cell_type": "markdown",
      "source": [
        "## Preparando Base de Dados"
      ],
      "metadata": {
        "id": "1unK5h-78F0o"
      }
    },
    {
      "cell_type": "markdown",
      "source": [
        "Baseado no exemplo do Keras:\n",
        "\n",
        "https://keras.io/examples/nlp/pretrained_word_embeddings/"
      ],
      "metadata": {
        "id": "l3bx76hGf7NZ"
      }
    },
    {
      "cell_type": "markdown",
      "source": [
        "### Base de dados de artigos da Folha UOL"
      ],
      "metadata": {
        "id": "5uybHerI8bxR"
      }
    },
    {
      "cell_type": "code",
      "execution_count": null,
      "metadata": {
        "colab": {
          "base_uri": "https://localhost:8080/",
          "height": 118
        },
        "id": "9F702eXci4XD",
        "outputId": "f6096588-2a73-4bce-e991-53d96258d6d3"
      },
      "outputs": [
        {
          "output_type": "display_data",
          "data": {
            "text/plain": [
              "<IPython.core.display.HTML object>"
            ],
            "text/html": [
              "<h1>Acessando Base de Dados</h1>"
            ]
          },
          "metadata": {}
        },
        {
          "output_type": "display_data",
          "data": {
            "text/plain": [
              "<IPython.core.display.HTML object>"
            ],
            "text/html": [
              "<h2>Base pronta para uso</h2>"
            ]
          },
          "metadata": {}
        }
      ],
      "source": [
        "import os\n",
        "from IPython.core.display import display, HTML\n",
        "from google.colab import files, userdata\n",
        "\n",
        "display(HTML('<h1>Acessando Base de Dados</h1>'))\n",
        "\n",
        "if not os.path.exists('/content/articles.csv'):\n",
        "  if not os.path.exists('kaggle.json'):\n",
        "    try:\n",
        "      kaggle_key = userdata.get('kaggle_key')\n",
        "      open('kaggle.json','w').write(kaggle_key)\n",
        "    except:\n",
        "      files.upload()\n",
        "\n",
        "  !pip install -q kaggle\n",
        "\n",
        "  !mkdir ~/.kaggle\n",
        "  !cp kaggle.json ~/.kaggle/\n",
        "  !rm kaggle.json\n",
        "  !chmod 600 ~/.kaggle/kaggle.json\n",
        "  display(HTML('<h2>Baixando base do Kaggle</h2>'))\n",
        "  !kaggle datasets download 'marlesson/news-of-the-site-folhauol'\n",
        "  display(HTML('<h3>Descompactando base ...</h3>'))\n",
        "  !unzip -qq news-of-the-site-folhauol.zip\n",
        "  !rm news-of-the-site-folhauol.zip\n",
        "display(HTML('<h2>Base pronta para uso</h2>'))"
      ]
    },
    {
      "cell_type": "code",
      "source": [
        "import pandas as pd\n",
        "display(HTML('<h1>Carregando base em DataFrame(df_folha)</h1>'))\n",
        "df_folha = pd.read_csv('articles.csv',encoding=\"utf8\")\n",
        "display(HTML('<h2>Removendo colunas desnecessárias: [\"title\",\"date\",\"subcategory\",\"link\"]</h2>'))\n",
        "df_folha.drop([\"title\",\"date\",\"subcategory\",\"link\"],axis=1,inplace=True)\n",
        "display(HTML(f'<h3>Linhas atuais: {len(df_folha)}</h2>'))\n",
        "df_folha.drop_duplicates(subset=[\"text\"],inplace=True)\n",
        "df_folha.dropna(inplace=True)\n",
        "df_folha.reset_index(drop=True,inplace=True)\n",
        "display(HTML(f'<h3>Linhas atualizadas: {len(df_folha)}</h2>'))\n",
        "display(HTML('<h2>Selecionando apenas as categorias relevantes para classificação</h2>'))\n",
        "df_folha = df_folha[df_folha['category'].isin(list(df_folha['category'].value_counts()[:7].index))]\n",
        "\n",
        "targets, class_names = pd.factorize(df_folha['category'],sort=True)\n",
        "\n",
        "samples = df_folha['text'].values\n",
        "labels = pd.get_dummies(targets,dtype='int').values\n",
        "\n",
        "print('Categorias:',class_names)\n",
        "df_folha.drop([\"category\"],axis=1,inplace=True)\n",
        "df_folha['target'] = targets\n",
        "df_folha.head()\n",
        "del df_folha"
      ],
      "metadata": {
        "colab": {
          "base_uri": "https://localhost:8080/",
          "height": 478
        },
        "id": "lPgW1aca8WTI",
        "outputId": "9c288b41-fb3a-4a81-b473-c35e62bf20d9"
      },
      "execution_count": null,
      "outputs": [
        {
          "output_type": "display_data",
          "data": {
            "text/plain": [
              "<IPython.core.display.HTML object>"
            ],
            "text/html": [
              "<h1>Carregando base em DataFrame(df_folha)</h1>"
            ]
          },
          "metadata": {}
        },
        {
          "output_type": "display_data",
          "data": {
            "text/plain": [
              "<IPython.core.display.HTML object>"
            ],
            "text/html": [
              "<h2>Removendo colunas desnecessárias: [\"title\",\"date\",\"subcategory\",\"link\"]</h2>"
            ]
          },
          "metadata": {}
        },
        {
          "output_type": "display_data",
          "data": {
            "text/plain": [
              "<IPython.core.display.HTML object>"
            ],
            "text/html": [
              "<h3>Linhas atuais: 167053</h2>"
            ]
          },
          "metadata": {}
        },
        {
          "output_type": "display_data",
          "data": {
            "text/plain": [
              "<IPython.core.display.HTML object>"
            ],
            "text/html": [
              "<h3>Linhas atualizadas: 165901</h2>"
            ]
          },
          "metadata": {}
        },
        {
          "output_type": "display_data",
          "data": {
            "text/plain": [
              "<IPython.core.display.HTML object>"
            ],
            "text/html": [
              "<h2>Selecionando apenas as categorias relevantes para classificação</h2>"
            ]
          },
          "metadata": {}
        },
        {
          "output_type": "stream",
          "name": "stdout",
          "text": [
            "Categorias: Index(['colunas', 'cotidiano', 'esporte', 'ilustrada', 'mercado', 'mundo',\n",
            "       'poder'],\n",
            "      dtype='object')\n"
          ]
        },
        {
          "output_type": "stream",
          "name": "stderr",
          "text": [
            "<ipython-input-40-28ca0db73829>:20: SettingWithCopyWarning: \n",
            "A value is trying to be set on a copy of a slice from a DataFrame\n",
            "\n",
            "See the caveats in the documentation: https://pandas.pydata.org/pandas-docs/stable/user_guide/indexing.html#returning-a-view-versus-a-copy\n",
            "  df_folha.drop([\"category\"],axis=1,inplace=True)\n",
            "<ipython-input-40-28ca0db73829>:21: SettingWithCopyWarning: \n",
            "A value is trying to be set on a copy of a slice from a DataFrame.\n",
            "Try using .loc[row_indexer,col_indexer] = value instead\n",
            "\n",
            "See the caveats in the documentation: https://pandas.pydata.org/pandas-docs/stable/user_guide/indexing.html#returning-a-view-versus-a-copy\n",
            "  df_folha['target'] = targets\n"
          ]
        }
      ]
    },
    {
      "cell_type": "markdown",
      "source": [
        "## Misturando e dividindo dados de treinamento e validação"
      ],
      "metadata": {
        "id": "d7smkgPkatJn"
      }
    },
    {
      "cell_type": "code",
      "source": [
        "import numpy as np\n",
        "# Misturando\n",
        "display(HTML('<h1>Misturando e separando dados para treinamento</h1>'))\n",
        "rng = np.random.RandomState(42)\n",
        "rng.shuffle(samples)\n",
        "rng = np.random.RandomState(42) # faz a mesma mistura do anterior\n",
        "rng.shuffle(labels)\n",
        "# extraindo treinamento e validacao\n",
        "parte_analisada = min(??????,len(samples)) # problemas de RAM\n",
        "display(HTML(f'<h3>Redução devido a RAM: {parte_analisada}</h1>'))\n",
        "val_split = 0.2\n",
        "val_num = int(val_split * parte_analisada)\n",
        "\n",
        "samples_train = samples[:parte_analisada-val_num]\n",
        "y_train = labels[:parte_analisada-val_num]\n",
        "\n",
        "samples_val = samples[parte_analisada-val_num:parte_analisada]\n",
        "y_val = labels[parte_analisada-val_num:parte_analisada]\n",
        "\n",
        "display(HTML(f'<h3>Treinamento: {samples_train.shape[0]} Validação {samples_val.shape[0]}</h1>'))"
      ],
      "metadata": {
        "id": "aSdzSsrDaz_I"
      },
      "execution_count": null,
      "outputs": []
    },
    {
      "cell_type": "markdown",
      "source": [
        "## Vetorizando o Texto"
      ],
      "metadata": {
        "id": "hMukeQoecbxD"
      }
    },
    {
      "cell_type": "code",
      "source": [
        "import tensorflow.data as tf_data\n",
        "\n",
        "display(HTML('<h1>Vetorizando texto pelo conjunto de treinamento</h1>'))\n",
        "\n",
        "dim_vetor = 200\n",
        "vectorizer = layers.TextVectorization(max_tokens=20000, output_sequence_length=dim_vetor)\n",
        "text_ds = tf_data.Dataset.from_tensor_slices(samples_train).batch(128)\n",
        "vectorizer.adapt(text_ds)\n",
        "\n",
        "vectorizer.get_vocabulary()[:5]"
      ],
      "metadata": {
        "colab": {
          "base_uri": "https://localhost:8080/",
          "height": 92
        },
        "id": "YeXTdbjgceum",
        "outputId": "1a18a591-6c45-4674-f62c-fe139d8c0b38"
      },
      "execution_count": null,
      "outputs": [
        {
          "output_type": "display_data",
          "data": {
            "text/plain": [
              "<IPython.core.display.HTML object>"
            ],
            "text/html": [
              "<h1>Vetorizando texto pelo conjunto de treinamento</h1>"
            ]
          },
          "metadata": {}
        },
        {
          "output_type": "execute_result",
          "data": {
            "text/plain": [
              "['', '[UNK]', 'de', 'a', 'o']"
            ]
          },
          "metadata": {},
          "execution_count": 68
        }
      ]
    },
    {
      "cell_type": "code",
      "source": [
        "output = vectorizer([[\"inteligência artificial dor de cabeça\"]])\n",
        "output.numpy()[0, :5]"
      ],
      "metadata": {
        "colab": {
          "base_uri": "https://localhost:8080/"
        },
        "id": "304dabuocu64",
        "outputId": "193a3e72-e13e-436b-b77f-bd83f5c0fb2a"
      },
      "execution_count": null,
      "outputs": [
        {
          "output_type": "execute_result",
          "data": {
            "text/plain": [
              "array([ 2116, 12858,  2270,     2,   899])"
            ]
          },
          "metadata": {},
          "execution_count": 69
        }
      ]
    },
    {
      "cell_type": "code",
      "source": [
        "voc = vectorizer.get_vocabulary()\n",
        "word_index = dict(zip(voc, range(len(voc))))\n",
        "\n",
        "test = [\"inteligência\", \"artificial\", \"dor\", \"de\", \"cabeça\"]\n",
        "[word_index[w] for w in test]"
      ],
      "metadata": {
        "colab": {
          "base_uri": "https://localhost:8080/"
        },
        "id": "Zf4FllPuc6tP",
        "outputId": "a8c19d89-8828-4068-a275-de6c93e9a7fc"
      },
      "execution_count": null,
      "outputs": [
        {
          "output_type": "execute_result",
          "data": {
            "text/plain": [
              "[2116, 12858, 2270, 2, 899]"
            ]
          },
          "metadata": {},
          "execution_count": 70
        }
      ]
    },
    {
      "cell_type": "markdown",
      "source": [
        "## GloVe - Global Vectors para Palavras"
      ],
      "metadata": {
        "id": "MGrFNxETdIve"
      }
    },
    {
      "cell_type": "markdown",
      "source": [
        "Fonte do modelo pré-treinado:\n",
        "\n",
        "[Núcleo Interinstitucional de Linguística Computacional - USP](http://nilc.icmc.usp.br/embeddings)"
      ],
      "metadata": {
        "id": "ZerVo8ZKdRT2"
      }
    },
    {
      "cell_type": "code",
      "source": [
        "display(HTML('<h1>GloVe da USP - glove_s50</h1>'))\n",
        "\n",
        "glove_file = \"glove_s50.txt\"\n",
        "\n",
        "if not os.path.exists('glove_s50.txt'):\n",
        "  !wget -O glove_s50.zip http://143.107.183.175:22980/download.php?file=embeddings/glove/glove_s50.zip\n",
        "  !unzip -qq glove_s50.zip\n",
        "  !rm glove_s50.zip\n",
        "\n",
        "embeddings_index = {}\n",
        "with open(glove_file) as f:\n",
        "    for line in f:\n",
        "        word, coefs = line.split(maxsplit=1)\n",
        "        coefs = np.fromstring(coefs, \"f\", sep=\" \")\n",
        "        embeddings_index[word] = coefs\n",
        "\n",
        "display(HTML(f'<h2>Encontrado {len(embeddings_index)} vetores de palavras</h2>'))"
      ],
      "metadata": {
        "colab": {
          "base_uri": "https://localhost:8080/",
          "height": 157
        },
        "id": "hImiro0ydIMz",
        "outputId": "929f3d1d-5be4-422e-f49a-affa1649fc12"
      },
      "execution_count": null,
      "outputs": [
        {
          "output_type": "display_data",
          "data": {
            "text/plain": [
              "<IPython.core.display.HTML object>"
            ],
            "text/html": [
              "<h1>GloVe da USP - glove_s50</h1>"
            ]
          },
          "metadata": {}
        },
        {
          "output_type": "stream",
          "name": "stderr",
          "text": [
            "<ipython-input-71-1f64dee8ae7b>:14: DeprecationWarning: string or file could not be read to its end due to unmatched data; this will raise a ValueError in the future.\n",
            "  coefs = np.fromstring(coefs, \"f\", sep=\" \")\n"
          ]
        },
        {
          "output_type": "display_data",
          "data": {
            "text/plain": [
              "<IPython.core.display.HTML object>"
            ],
            "text/html": [
              "<h2>Encontrado 929594 vetores de palavras</h2>"
            ]
          },
          "metadata": {}
        }
      ]
    },
    {
      "cell_type": "code",
      "source": [
        "num_tokens = len(voc) + 2\n",
        "glove_vetor_tam = 50 # glove_s50 < 50\n",
        "hits = 0\n",
        "misses = 0\n",
        "embedding_matrix = np.zeros((num_tokens, glove_vetor_tam))\n",
        "for word, i in word_index.items():\n",
        "    embedding_vector = embeddings_index.get(word)\n",
        "    if embedding_vector is not None:\n",
        "        embedding_matrix[i] = embedding_vector[:glove_vetor_tam]\n",
        "        hits += 1\n",
        "    else:\n",
        "        misses += 1\n",
        "\n",
        "display(HTML(f'<h2>Convertidas {hits} palavras ({misses} perdidas)</h2>'))"
      ],
      "metadata": {
        "colab": {
          "base_uri": "https://localhost:8080/",
          "height": 64
        },
        "id": "Gr9SUAf-d689",
        "outputId": "952b1d52-2848-41ba-9fec-0b03ad71e3be"
      },
      "execution_count": null,
      "outputs": [
        {
          "output_type": "display_data",
          "data": {
            "text/plain": [
              "<IPython.core.display.HTML object>"
            ],
            "text/html": [
              "<h2>Convertidas 18998 palavras (1002 perdidas)</h2>"
            ]
          },
          "metadata": {}
        }
      ]
    },
    {
      "cell_type": "markdown",
      "source": [
        "### Convertendo GloVe do treinamento para modelo Neural"
      ],
      "metadata": {
        "id": "0mcdVlZtech2"
      }
    },
    {
      "cell_type": "code",
      "source": [
        "from keras import layers\n",
        "\n",
        "embedding_layer = layers.Embedding(num_tokens, glove_vetor_tam, trainable=False)\n",
        "embedding_layer.build((1,))\n",
        "embedding_layer.set_weights([embedding_matrix])\n",
        "\n",
        "display(HTML('<h1>Camada com GloVe</h1>'))"
      ],
      "metadata": {
        "colab": {
          "base_uri": "https://localhost:8080/",
          "height": 74
        },
        "id": "Z0-vJcgJejmh",
        "outputId": "d6eb7b87-123e-4a76-8e7f-01c81f510592"
      },
      "execution_count": null,
      "outputs": [
        {
          "output_type": "display_data",
          "data": {
            "text/plain": [
              "<IPython.core.display.HTML object>"
            ],
            "text/html": [
              "<h1>Camada com GloVe</h1>"
            ]
          },
          "metadata": {}
        }
      ]
    },
    {
      "cell_type": "markdown",
      "source": [
        "## Modelo Neural"
      ],
      "metadata": {
        "id": "PjgxuJNjeoVH"
      }
    },
    {
      "cell_type": "code",
      "source": [
        "# IMPLEMENTAR AQUI"
      ],
      "metadata": {
        "id": "-avMj0buwu8c"
      },
      "execution_count": null,
      "outputs": []
    },
    {
      "cell_type": "markdown",
      "source": [
        "### Treinamento"
      ],
      "metadata": {
        "id": "0feL0uBqe0q2"
      }
    },
    {
      "cell_type": "code",
      "source": [
        "X_train = vectorizer(np.array([[s] for s in samples_train])).numpy()\n",
        "X_val = vectorizer(np.array([[s] for s in samples_val])).numpy()\n",
        "\n",
        "print(X_train.shape, y_train.shape, X_val.shape, y_val.shape)\n",
        "\n",
        "display(HTML('<h1>Compilando Modelo Neural</h1>'))\n",
        "\n",
        "model.compile(loss=\"?????????????\", optimizer=\"rmsprop\", metrics=[\"acc\"])\n",
        "\n",
        "display(HTML('<h1>Treinando</h1>'))\n",
        "epochs = 20\n",
        "history = model.fit(X_train, y_train, batch_size=128, epochs=epochs, validation_data=(X_val, y_val))"
      ],
      "metadata": {
        "colab": {
          "base_uri": "https://localhost:8080/",
          "height": 840
        },
        "id": "NyLXYV4ne2pQ",
        "outputId": "118edad9-72f1-4345-e62e-0d4047cadb41"
      },
      "execution_count": null,
      "outputs": [
        {
          "output_type": "stream",
          "name": "stdout",
          "text": [
            "(4000, 200) (4000, 7) (1000, 200) (1000, 7)\n"
          ]
        },
        {
          "output_type": "display_data",
          "data": {
            "text/plain": [
              "<IPython.core.display.HTML object>"
            ],
            "text/html": [
              "<h1>Compilando Modelo Neural</h1>"
            ]
          },
          "metadata": {}
        },
        {
          "output_type": "display_data",
          "data": {
            "text/plain": [
              "<IPython.core.display.HTML object>"
            ],
            "text/html": [
              "<h1>Treinando</h1>"
            ]
          },
          "metadata": {}
        },
        {
          "output_type": "stream",
          "name": "stdout",
          "text": [
            "Epoch 1/20\n",
            "32/32 [==============================] - 12s 307ms/step - loss: 1.9302 - acc: 0.2062 - val_loss: 1.8254 - val_acc: 0.2050\n",
            "Epoch 2/20\n",
            "32/32 [==============================] - 6s 171ms/step - loss: 1.5691 - acc: 0.4000 - val_loss: 1.3300 - val_acc: 0.4740\n",
            "Epoch 3/20\n",
            "32/32 [==============================] - 5s 157ms/step - loss: 1.3074 - acc: 0.5297 - val_loss: 1.1872 - val_acc: 0.5630\n",
            "Epoch 4/20\n",
            "32/32 [==============================] - 8s 258ms/step - loss: 1.1100 - acc: 0.6183 - val_loss: 1.0332 - val_acc: 0.6140\n",
            "Epoch 5/20\n",
            "32/32 [==============================] - 7s 214ms/step - loss: 0.9648 - acc: 0.6768 - val_loss: 1.0196 - val_acc: 0.5780\n",
            "Epoch 6/20\n",
            "32/32 [==============================] - 5s 143ms/step - loss: 0.8690 - acc: 0.7007 - val_loss: 1.1406 - val_acc: 0.6140\n",
            "Epoch 7/20\n",
            "32/32 [==============================] - 6s 188ms/step - loss: 0.8010 - acc: 0.7278 - val_loss: 0.7571 - val_acc: 0.7240\n",
            "Epoch 8/20\n",
            "32/32 [==============================] - 9s 270ms/step - loss: 0.7230 - acc: 0.7492 - val_loss: 0.9243 - val_acc: 0.6450\n",
            "Epoch 9/20\n",
            "32/32 [==============================] - 5s 144ms/step - loss: 0.6489 - acc: 0.7800 - val_loss: 0.7873 - val_acc: 0.7250\n",
            "Epoch 10/20\n",
            "32/32 [==============================] - 5s 151ms/step - loss: 0.6292 - acc: 0.7887 - val_loss: 0.8522 - val_acc: 0.6950\n",
            "Epoch 11/20\n",
            "32/32 [==============================] - 8s 264ms/step - loss: 0.5894 - acc: 0.7968 - val_loss: 0.9489 - val_acc: 0.6920\n",
            "Epoch 12/20\n",
            "32/32 [==============================] - 6s 193ms/step - loss: 0.5229 - acc: 0.8278 - val_loss: 0.6843 - val_acc: 0.7760\n",
            "Epoch 13/20\n",
            "32/32 [==============================] - 5s 150ms/step - loss: 0.5138 - acc: 0.8227 - val_loss: 0.6855 - val_acc: 0.7680\n",
            "Epoch 14/20\n",
            "32/32 [==============================] - 6s 197ms/step - loss: 0.4114 - acc: 0.8560 - val_loss: 0.9836 - val_acc: 0.7170\n",
            "Epoch 15/20\n",
            "32/32 [==============================] - 8s 258ms/step - loss: 0.3841 - acc: 0.8662 - val_loss: 0.9615 - val_acc: 0.7170\n",
            "Epoch 16/20\n",
            "32/32 [==============================] - 5s 151ms/step - loss: 0.3321 - acc: 0.8930 - val_loss: 0.7393 - val_acc: 0.7760\n",
            "Epoch 17/20\n",
            "32/32 [==============================] - 5s 151ms/step - loss: 0.2931 - acc: 0.9053 - val_loss: 0.9136 - val_acc: 0.7120\n",
            "Epoch 18/20\n",
            "32/32 [==============================] - 9s 267ms/step - loss: 0.2755 - acc: 0.9105 - val_loss: 0.7615 - val_acc: 0.7690\n",
            "Epoch 19/20\n",
            "32/32 [==============================] - 6s 181ms/step - loss: 0.2227 - acc: 0.9335 - val_loss: 0.7127 - val_acc: 0.8030\n",
            "Epoch 20/20\n",
            "32/32 [==============================] - 5s 152ms/step - loss: 0.2250 - acc: 0.9395 - val_loss: 0.7737 - val_acc: 0.7910\n"
          ]
        }
      ]
    },
    {
      "cell_type": "markdown",
      "source": [
        "### Avaliando Modelo"
      ],
      "metadata": {
        "id": "8BA5x6aegEFK"
      }
    },
    {
      "cell_type": "code",
      "source": [
        "import matplotlib.pyplot as plt\n",
        "\n",
        "#plot accuracy\n",
        "plt.figure(figsize=(15, 7))\n",
        "plt.plot(range(epochs), history.history['acc'])\n",
        "plt.plot(range(epochs), history.history['val_acc'])\n",
        "plt.legend(['training_acc', 'validation_acc'])\n",
        "plt.title('Accuracy')"
      ],
      "metadata": {
        "colab": {
          "base_uri": "https://localhost:8080/",
          "height": 639
        },
        "id": "PlHaY_rUgGFV",
        "outputId": "63189431-baf4-4b7e-a684-1a0223083937"
      },
      "execution_count": null,
      "outputs": [
        {
          "output_type": "execute_result",
          "data": {
            "text/plain": [
              "Text(0.5, 1.0, 'Accuracy')"
            ]
          },
          "metadata": {},
          "execution_count": 76
        },
        {
          "output_type": "display_data",
          "data": {
            "text/plain": [
              "<Figure size 1500x700 with 1 Axes>"
            ],
            "image/png": "[encoded data removed]"
          },
          "metadata": {}
        }
      ]
    },
    {
      "cell_type": "code",
      "source": [
        "train_results = model.evaluate(X_train, np.asarray(y_train), verbose=0, batch_size=256)\n",
        "test_results = model.evaluate(X_val, np.asarray(y_val), verbose=0, batch_size=256)\n",
        "print(f'Train accuracy: {train_results[1]*100:0.2f}')\n",
        "print(f'Test accuracy: {test_results[1]*100:0.2f}')"
      ],
      "metadata": {
        "colab": {
          "base_uri": "https://localhost:8080/"
        },
        "id": "WUsQv-kZr9ku",
        "outputId": "8e85ab86-73b3-42de-f0ac-943eb986c28e"
      },
      "execution_count": null,
      "outputs": [
        {
          "output_type": "stream",
          "name": "stdout",
          "text": [
            "Train accuracy: 98.20\n",
            "Test accuracy: 79.10\n"
          ]
        }
      ]
    },
    {
      "cell_type": "code",
      "source": [
        "output_val = model.predict(X_val)\n",
        "y_pred_val = output_val.argmax(1)\n",
        "y_real_val = y_val.argmax(1)\n",
        "\n",
        "from sklearn.metrics import confusion_matrix, ConfusionMatrixDisplay\n",
        "\n",
        "cm = confusion_matrix(y_real_val, y_pred_val)\n",
        "disp = ConfusionMatrixDisplay(confusion_matrix=cm, display_labels=class_names)\n",
        "disp.plot(xticks_rotation=45)"
      ],
      "metadata": {
        "colab": {
          "base_uri": "https://localhost:8080/",
          "height": 526
        },
        "id": "RYRQJ1fzsuG9",
        "outputId": "78927314-3d15-4001-9c97-1f1ce92f9a8f"
      },
      "execution_count": null,
      "outputs": [
        {
          "output_type": "stream",
          "name": "stdout",
          "text": [
            "32/32 [==============================] - 1s 24ms/step\n"
          ]
        },
        {
          "output_type": "execute_result",
          "data": {
            "text/plain": [
              "<sklearn.metrics._plot.confusion_matrix.ConfusionMatrixDisplay at 0x7a889b7b1e70>"
            ]
          },
          "metadata": {},
          "execution_count": 86
        },
        {
          "output_type": "display_data",
          "data": {
            "text/plain": [
              "<Figure size 640x480 with 2 Axes>"
            ],
            "image/png": "[encoded data removed]"
          },
          "metadata": {}
        }
      ]
    }
  ],
  "metadata": {
    "colab": {
      "provenance": [],
      "gpuType": "T4",
      "authorship_tag": "ABX9TyNDbUGPs8pySdur7tJSuvs4",
      "include_colab_link": true
    },
    "kernelspec": {
      "display_name": "Python 3",
      "name": "python3"
    },
    "language_info": {
      "name": "python"
    },
    "accelerator": "GPU"
  },
  "nbformat": 4,
  "nbformat_minor": 0
}